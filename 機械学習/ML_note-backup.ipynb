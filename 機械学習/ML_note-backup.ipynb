{
 "cells": [
  {
   "cell_type": "markdown",
   "metadata": {},
   "source": [
    "ラビット☆チャレンジ 提出レポート"
   ]
  },
  {
   "cell_type": "markdown",
   "metadata": {},
   "source": [
    "# 機械学習"
   ]
  },
  {
   "cell_type": "markdown",
   "metadata": {
    "toc": true
   },
   "source": [
    "<h1>Table of Contents<span class=\"tocSkip\"></span></h1>\n",
    "<div class=\"toc\"><ul class=\"toc-item\"><li><span><a href=\"#機械学習\" data-toc-modified-id=\"機械学習-1\"><span class=\"toc-item-num\">1&nbsp;&nbsp;</span>機械学習</a></span><ul class=\"toc-item\"><li><span><a href=\"#テンプレート\" data-toc-modified-id=\"テンプレート-1.1\"><span class=\"toc-item-num\">1.1&nbsp;&nbsp;</span>テンプレート</a></span><ul class=\"toc-item\"><li><span><a href=\"#要点まとめ\" data-toc-modified-id=\"要点まとめ-1.1.1\"><span class=\"toc-item-num\">1.1.1&nbsp;&nbsp;</span>要点まとめ</a></span></li><li><span><a href=\"#ハンズオン\" data-toc-modified-id=\"ハンズオン-1.1.2\"><span class=\"toc-item-num\">1.1.2&nbsp;&nbsp;</span>ハンズオン</a></span></li></ul></li><li><span><a href=\"#線形代数\" data-toc-modified-id=\"線形代数-1.2\"><span class=\"toc-item-num\">1.2&nbsp;&nbsp;</span>線形代数</a></span><ul class=\"toc-item\"><li><span><a href=\"#要点まとめ\" data-toc-modified-id=\"要点まとめ-1.2.1\"><span class=\"toc-item-num\">1.2.1&nbsp;&nbsp;</span>要点まとめ</a></span></li><li><span><a href=\"#ハンズオン\" data-toc-modified-id=\"ハンズオン-1.2.2\"><span class=\"toc-item-num\">1.2.2&nbsp;&nbsp;</span>ハンズオン</a></span></li></ul></li></ul></li></ul></div>"
   ]
  },
  {
   "cell_type": "markdown",
   "metadata": {},
   "source": []
  },
  {
   "cell_type": "markdown",
   "metadata": {},
   "source": [
    "## テンプレート"
   ]
  },
  {
   "cell_type": "markdown",
   "metadata": {},
   "source": [
    "### 要点まとめ"
   ]
  },
  {
   "cell_type": "markdown",
   "metadata": {},
   "source": [
    "### ハンズオン"
   ]
  },
  {
   "cell_type": "markdown",
   "metadata": {},
   "source": []
  },
  {
   "cell_type": "markdown",
   "metadata": {},
   "source": [
    "## 線形代数"
   ]
  },
  {
   "cell_type": "markdown",
   "metadata": {},
   "source": [
    "### 要点まとめ"
   ]
  },
  {
   "cell_type": "markdown",
   "metadata": {},
   "source": [
    "- 入力 \n",
    "    - １次元以上のベクトル(vector)\n",
    "- 出力\n",
    "    - 1次元(scalar)\n",
    "- パラメータ  \n",
    "    - 重み　各特徴量に対する\n",
    "    - 切片(bias) \n",
    "- ハイパーパラメータ\n",
    "    - (後ほど)\n",
    "- 処理\n",
    "    - 線形結合\n",
    "        - 入力とパラメータの内積  \n",
    "            - 自分の言葉で言い換えると「特徴量と重みのドット積」  \n",
    "    - 切片を足し合わせる  \n",
    "        - X軸に対して平行移動する  \n",
    "        -  \n",
    "    -  "
   ]
  },
  {
   "cell_type": "markdown",
   "metadata": {},
   "source": [
    "w = []\n",
    "\n",
    "\n"
   ]
  },
  {
   "cell_type": "markdown",
   "metadata": {},
   "source": [
    "### ハンズオン"
   ]
  },
  {
   "cell_type": "code",
   "execution_count": null,
   "metadata": {},
   "outputs": [],
   "source": []
  },
  {
   "cell_type": "code",
   "execution_count": null,
   "metadata": {},
   "outputs": [],
   "source": []
  },
  {
   "cell_type": "code",
   "execution_count": null,
   "metadata": {},
   "outputs": [],
   "source": []
  },
  {
   "cell_type": "code",
   "execution_count": null,
   "metadata": {},
   "outputs": [],
   "source": []
  },
  {
   "cell_type": "markdown",
   "metadata": {},
   "source": []
  },
  {
   "cell_type": "markdown",
   "metadata": {},
   "source": []
  },
  {
   "cell_type": "markdown",
   "metadata": {},
   "source": []
  },
  {
   "cell_type": "markdown",
   "metadata": {},
   "source": []
  },
  {
   "cell_type": "markdown",
   "metadata": {},
   "source": []
  },
  {
   "cell_type": "markdown",
   "metadata": {},
   "source": []
  },
  {
   "cell_type": "markdown",
   "metadata": {},
   "source": []
  },
  {
   "cell_type": "markdown",
   "metadata": {},
   "source": []
  }
 ],
 "metadata": {
  "kernelspec": {
   "display_name": "Python 3",
   "language": "python",
   "name": "python3"
  },
  "language_info": {
   "codemirror_mode": {
    "name": "ipython",
    "version": 3
   },
   "file_extension": ".py",
   "mimetype": "text/x-python",
   "name": "python",
   "nbconvert_exporter": "python",
   "pygments_lexer": "ipython3",
   "version": "3.7.3"
  },
  "toc": {
   "base_numbering": 1,
   "nav_menu": {},
   "number_sections": true,
   "sideBar": true,
   "skip_h1_title": false,
   "title_cell": "Table of Contents",
   "title_sidebar": "Contents",
   "toc_cell": true,
   "toc_position": {},
   "toc_section_display": true,
   "toc_window_display": false
  }
 },
 "nbformat": 4,
 "nbformat_minor": 2
}
