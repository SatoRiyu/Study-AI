{
 "cells": [
  {
   "cell_type": "markdown",
   "metadata": {},
   "source": [
    "ラビット☆チャレンジ 提出レポート"
   ]
  },
  {
   "cell_type": "markdown",
   "metadata": {},
   "source": [
    "# 機械学習"
   ]
  },
  {
   "cell_type": "markdown",
   "metadata": {
    "toc": true
   },
   "source": [
    "<h1>Table of Contents<span class=\"tocSkip\"></span></h1>\n",
    "<div class=\"toc\"><ul class=\"toc-item\"><li><span><a href=\"#機械学習\" data-toc-modified-id=\"機械学習-1\"><span class=\"toc-item-num\">1&nbsp;&nbsp;</span>機械学習</a></span><ul class=\"toc-item\"><li><span><a href=\"#参考\" data-toc-modified-id=\"参考-1.1\"><span class=\"toc-item-num\">1.1&nbsp;&nbsp;</span>参考</a></span></li><li><span><a href=\"#module-import\" data-toc-modified-id=\"module-import-1.2\"><span class=\"toc-item-num\">1.2&nbsp;&nbsp;</span>module import</a></span></li><li><span><a href=\"#線形回帰モデル\" data-toc-modified-id=\"線形回帰モデル-1.3\"><span class=\"toc-item-num\">1.3&nbsp;&nbsp;</span>線形回帰モデル</a></span><ul class=\"toc-item\"><li><span><a href=\"#要点まとめ\" data-toc-modified-id=\"要点まとめ-1.3.1\"><span class=\"toc-item-num\">1.3.1&nbsp;&nbsp;</span>要点まとめ</a></span></li><li><span><a href=\"#データ分割・学習\" data-toc-modified-id=\"データ分割・学習-1.3.2\"><span class=\"toc-item-num\">1.3.2&nbsp;&nbsp;</span>データ分割・学習</a></span></li><li><span><a href=\"#ハンズオン（住宅価格予測）\" data-toc-modified-id=\"ハンズオン（住宅価格予測）-1.3.3\"><span class=\"toc-item-num\">1.3.3&nbsp;&nbsp;</span>ハンズオン（住宅価格予測）</a></span><ul class=\"toc-item\"><li><span><a href=\"#データの確認\" data-toc-modified-id=\"データの確認-1.3.3.1\"><span class=\"toc-item-num\">1.3.3.1&nbsp;&nbsp;</span>データの確認</a></span></li><li><span><a href=\"#線形単回帰分析\" data-toc-modified-id=\"線形単回帰分析-1.3.3.2\"><span class=\"toc-item-num\">1.3.3.2&nbsp;&nbsp;</span>線形単回帰分析</a></span></li><li><span><a href=\"#重回帰分析(2変数)\" data-toc-modified-id=\"重回帰分析(2変数)-1.3.3.3\"><span class=\"toc-item-num\">1.3.3.3&nbsp;&nbsp;</span>重回帰分析(2変数)</a></span></li><li><span><a href=\"#回帰係数と切片の値を確認\" data-toc-modified-id=\"回帰係数と切片の値を確認-1.3.3.4\"><span class=\"toc-item-num\">1.3.3.4&nbsp;&nbsp;</span>回帰係数と切片の値を確認</a></span></li></ul></li></ul></li><li><span><a href=\"#非線形回帰モデル\" data-toc-modified-id=\"非線形回帰モデル-1.4\"><span class=\"toc-item-num\">1.4&nbsp;&nbsp;</span>非線形回帰モデル</a></span><ul class=\"toc-item\"><li><span><a href=\"#非線形回帰モデル\" data-toc-modified-id=\"非線形回帰モデル-1.4.1\"><span class=\"toc-item-num\">1.4.1&nbsp;&nbsp;</span>非線形回帰モデル</a></span></li><li><span><a href=\"#正則化法\" data-toc-modified-id=\"正則化法-1.4.2\"><span class=\"toc-item-num\">1.4.2&nbsp;&nbsp;</span>正則化法</a></span></li><li><span><a href=\"#モデル選択\" data-toc-modified-id=\"モデル選択-1.4.3\"><span class=\"toc-item-num\">1.4.3&nbsp;&nbsp;</span>モデル選択</a></span></li></ul></li><li><span><a href=\"#ロジスティック回帰\" data-toc-modified-id=\"ロジスティック回帰-1.5\"><span class=\"toc-item-num\">1.5&nbsp;&nbsp;</span>ロジスティック回帰</a></span><ul class=\"toc-item\"><li><span><a href=\"#ロジスティック回帰\" data-toc-modified-id=\"ロジスティック回帰-1.5.1\"><span class=\"toc-item-num\">1.5.1&nbsp;&nbsp;</span>ロジスティック回帰</a></span></li><li><span><a href=\"#最尤推定\" data-toc-modified-id=\"最尤推定-1.5.2\"><span class=\"toc-item-num\">1.5.2&nbsp;&nbsp;</span>最尤推定</a></span></li><li><span><a href=\"#勾配降下法\" data-toc-modified-id=\"勾配降下法-1.5.3\"><span class=\"toc-item-num\">1.5.3&nbsp;&nbsp;</span>勾配降下法</a></span></li><li><span><a href=\"#モデル評価\" data-toc-modified-id=\"モデル評価-1.5.4\"><span class=\"toc-item-num\">1.5.4&nbsp;&nbsp;</span>モデル評価</a></span></li></ul></li></ul></li></ul></div>"
   ]
  },
  {
   "cell_type": "markdown",
   "metadata": {},
   "source": [
    "## 参考"
   ]
  },
  {
   "cell_type": "markdown",
   "metadata": {},
   "source": [
    "- 評価関数について  \n",
    "    - [機械学習で使われる評価関数まとめ - Qiita](https://qiita.com/monda00/items/a2ee8e0da51953c24da8)\n",
    "- 自分の勉強記録・ノート  \n",
    "    - 線形回帰  \n",
    "        - [DIC Sprint 機械学習スクラッチ　線形回帰](https://github.com/SatoRiyu/diveintocode-ml/blob/master/Sprint/Sprint3.ipynb)\n",
    "    - ロジスティック回帰  \n",
    "        - [DIC Sprint 機械学習スクラッチ ロジスティック回帰](https://github.com/SatoRiyu/diveintocode-ml/blob/master/Sprint/Sprint4.ipynb)"
   ]
  },
  {
   "cell_type": "markdown",
   "metadata": {},
   "source": [
    "## module import"
   ]
  },
  {
   "cell_type": "code",
   "execution_count": 1,
   "metadata": {
    "ExecuteTime": {
     "end_time": "2021-01-08T10:33:36.016351Z",
     "start_time": "2021-01-08T10:33:33.969304Z"
    }
   },
   "outputs": [],
   "source": [
    "#from モジュール名 import クラス名（もしくは関数名や変数名）\n",
    "\n",
    "from sklearn.datasets import load_boston\n",
    "from pandas import DataFrame\n",
    "import numpy as np\n",
    "\n",
    "## sklearnモジュールからLinearRegressionをインポート\n",
    "from sklearn.linear_model import LinearRegression"
   ]
  },
  {
   "cell_type": "markdown",
   "metadata": {},
   "source": [
    "## 線形回帰モデル"
   ]
  },
  {
   "cell_type": "markdown",
   "metadata": {},
   "source": [
    "### 要点まとめ"
   ]
  },
  {
   "cell_type": "markdown",
   "metadata": {},
   "source": [
    "- 入力 \n",
    "    - 説明変数(特徴量)   \n",
    "       １次元以上のベクトル(vector)  \n",
    "      $$\n",
    "       \\boldsymbol{x} = (x_{1}, x_{2}, ..., x_{m})^{\\mathrm{T}} \\in \\mathbb{R}^{m}\n",
    "      $$\n",
    "- 出力\n",
    "    - 目的変数  \n",
    "      1次元(scalar)\n",
    "      $$\n",
    "       y \\in \\mathbb{R}^{1}\n",
    "      $$\n",
    "- パラメータ  \n",
    "    - 各特徴量に対する重み $\\boldsymbol{w}=  (w_{1}, w_{2}, ..., w_{m})$\n",
    "    - 切片(bias) $w_{0}$\n",
    "- 処理  \n",
    "    - 式  \n",
    "      $$\n",
    "      \\hat{y} = \\boldsymbol{w}^{\\mathrm{T}} \\cdot{\\boldsymbol{x}} + w_0 = \\sum_{j=1}^{m}w_{j}x_{j} + w_{0}\n",
    "      $$\n",
    "    - 線形結合\n",
    "        - 入力とパラメータの内積  \n",
    "            - 自分の言葉で言い換えると「特徴量と重みのドット積」  \n",
    "    - 切片($w_{0}$)を足し合わせる  \n",
    "        - X軸に対して平行移動する  \n",
    "- 評価関数  \n",
    "    - MSE  \n",
    "        - 日本語では「平均二乗誤差」、「残差平方和」  \n",
    "        [機械学習で使われる評価関数まとめ - Qiita](https://qiita.com/monda00/items/a2ee8e0da51953c24da8)\n",
    "- 目的関数（損失関数）  \n",
    "    - 最小二乗法  \n",
    "    - 最尤法  \n",
    "- ハイパーパラメータ\n",
    "    - 学習率  "
   ]
  },
  {
   "cell_type": "markdown",
   "metadata": {},
   "source": [
    "### データ分割・学習"
   ]
  },
  {
   "cell_type": "markdown",
   "metadata": {},
   "source": [
    "- データの分割  \n",
    "    - 目的 モデルの汎化性能(Generalization)を測るため\n",
    "        - 既知のデータに対してどれだけ精度高く目的変数の値を出力出来ても意味がない。辞書やデータベースを用意すれば済んでしまう。それがエキスパートシステムか？\n",
    "    - 分割方法　　\n",
    "        - k-fold法\n",
    "- 学習  \n",
    "    - 学習データで学習、検証用データで評価検証\n",
    "    - 評価関数の値を目的関数に渡す。最小化、あるいは最大化する。"
   ]
  },
  {
   "cell_type": "markdown",
   "metadata": {},
   "source": [
    "### ハンズオン（住宅価格予測）"
   ]
  },
  {
   "cell_type": "markdown",
   "metadata": {},
   "source": [
    "#### データの確認"
   ]
  },
  {
   "cell_type": "code",
   "execution_count": 2,
   "metadata": {
    "ExecuteTime": {
     "end_time": "2021-01-08T10:33:36.030564Z",
     "start_time": "2021-01-08T10:33:36.020575Z"
    }
   },
   "outputs": [],
   "source": [
    "# ボストンデータを\"boston\"というインスタンスにインポート\n",
    "boston = load_boston()"
   ]
  },
  {
   "cell_type": "code",
   "execution_count": 3,
   "metadata": {
    "ExecuteTime": {
     "end_time": "2021-01-08T10:33:36.045016Z",
     "start_time": "2021-01-08T10:33:36.033981Z"
    },
    "scrolled": true
   },
   "outputs": [
    {
     "name": "stdout",
     "output_type": "stream",
     "text": [
      "{'data': array([[6.3200e-03, 1.8000e+01, 2.3100e+00, ..., 1.5300e+01, 3.9690e+02,\n",
      "        4.9800e+00],\n",
      "       [2.7310e-02, 0.0000e+00, 7.0700e+00, ..., 1.7800e+01, 3.9690e+02,\n",
      "        9.1400e+00],\n",
      "       [2.7290e-02, 0.0000e+00, 7.0700e+00, ..., 1.7800e+01, 3.9283e+02,\n",
      "        4.0300e+00],\n",
      "       ...,\n",
      "       [6.0760e-02, 0.0000e+00, 1.1930e+01, ..., 2.1000e+01, 3.9690e+02,\n",
      "        5.6400e+00],\n",
      "       [1.0959e-01, 0.0000e+00, 1.1930e+01, ..., 2.1000e+01, 3.9345e+02,\n",
      "        6.4800e+00],\n",
      "       [4.7410e-02, 0.0000e+00, 1.1930e+01, ..., 2.1000e+01, 3.9690e+02,\n",
      "        7.8800e+00]]), 'target': array([24. , 21.6, 34.7, 33.4, 36.2, 28.7, 22.9, 27.1, 16.5, 18.9, 15. ,\n",
      "       18.9, 21.7, 20.4, 18.2, 19.9, 23.1, 17.5, 20.2, 18.2, 13.6, 19.6,\n",
      "       15.2, 14.5, 15.6, 13.9, 16.6, 14.8, 18.4, 21. , 12.7, 14.5, 13.2,\n",
      "       13.1, 13.5, 18.9, 20. , 21. , 24.7, 30.8, 34.9, 26.6, 25.3, 24.7,\n",
      "       21.2, 19.3, 20. , 16.6, 14.4, 19.4, 19.7, 20.5, 25. , 23.4, 18.9,\n",
      "       35.4, 24.7, 31.6, 23.3, 19.6, 18.7, 16. , 22.2, 25. , 33. , 23.5,\n",
      "       19.4, 22. , 17.4, 20.9, 24.2, 21.7, 22.8, 23.4, 24.1, 21.4, 20. ,\n",
      "       20.8, 21.2, 20.3, 28. , 23.9, 24.8, 22.9, 23.9, 26.6, 22.5, 22.2,\n",
      "       23.6, 28.7, 22.6, 22. , 22.9, 25. , 20.6, 28.4, 21.4, 38.7, 43.8,\n",
      "       33.2, 27.5, 26.5, 18.6, 19.3, 20.1, 19.5, 19.5, 20.4, 19.8, 19.4,\n",
      "       21.7, 22.8, 18.8, 18.7, 18.5, 18.3, 21.2, 19.2, 20.4, 19.3, 22. ,\n",
      "       20.3, 20.5, 17.3, 18.8, 21.4, 15.7, 16.2, 18. , 14.3, 19.2, 19.6,\n",
      "       23. , 18.4, 15.6, 18.1, 17.4, 17.1, 13.3, 17.8, 14. , 14.4, 13.4,\n",
      "       15.6, 11.8, 13.8, 15.6, 14.6, 17.8, 15.4, 21.5, 19.6, 15.3, 19.4,\n",
      "       17. , 15.6, 13.1, 41.3, 24.3, 23.3, 27. , 50. , 50. , 50. , 22.7,\n",
      "       25. , 50. , 23.8, 23.8, 22.3, 17.4, 19.1, 23.1, 23.6, 22.6, 29.4,\n",
      "       23.2, 24.6, 29.9, 37.2, 39.8, 36.2, 37.9, 32.5, 26.4, 29.6, 50. ,\n",
      "       32. , 29.8, 34.9, 37. , 30.5, 36.4, 31.1, 29.1, 50. , 33.3, 30.3,\n",
      "       34.6, 34.9, 32.9, 24.1, 42.3, 48.5, 50. , 22.6, 24.4, 22.5, 24.4,\n",
      "       20. , 21.7, 19.3, 22.4, 28.1, 23.7, 25. , 23.3, 28.7, 21.5, 23. ,\n",
      "       26.7, 21.7, 27.5, 30.1, 44.8, 50. , 37.6, 31.6, 46.7, 31.5, 24.3,\n",
      "       31.7, 41.7, 48.3, 29. , 24. , 25.1, 31.5, 23.7, 23.3, 22. , 20.1,\n",
      "       22.2, 23.7, 17.6, 18.5, 24.3, 20.5, 24.5, 26.2, 24.4, 24.8, 29.6,\n",
      "       42.8, 21.9, 20.9, 44. , 50. , 36. , 30.1, 33.8, 43.1, 48.8, 31. ,\n",
      "       36.5, 22.8, 30.7, 50. , 43.5, 20.7, 21.1, 25.2, 24.4, 35.2, 32.4,\n",
      "       32. , 33.2, 33.1, 29.1, 35.1, 45.4, 35.4, 46. , 50. , 32.2, 22. ,\n",
      "       20.1, 23.2, 22.3, 24.8, 28.5, 37.3, 27.9, 23.9, 21.7, 28.6, 27.1,\n",
      "       20.3, 22.5, 29. , 24.8, 22. , 26.4, 33.1, 36.1, 28.4, 33.4, 28.2,\n",
      "       22.8, 20.3, 16.1, 22.1, 19.4, 21.6, 23.8, 16.2, 17.8, 19.8, 23.1,\n",
      "       21. , 23.8, 23.1, 20.4, 18.5, 25. , 24.6, 23. , 22.2, 19.3, 22.6,\n",
      "       19.8, 17.1, 19.4, 22.2, 20.7, 21.1, 19.5, 18.5, 20.6, 19. , 18.7,\n",
      "       32.7, 16.5, 23.9, 31.2, 17.5, 17.2, 23.1, 24.5, 26.6, 22.9, 24.1,\n",
      "       18.6, 30.1, 18.2, 20.6, 17.8, 21.7, 22.7, 22.6, 25. , 19.9, 20.8,\n",
      "       16.8, 21.9, 27.5, 21.9, 23.1, 50. , 50. , 50. , 50. , 50. , 13.8,\n",
      "       13.8, 15. , 13.9, 13.3, 13.1, 10.2, 10.4, 10.9, 11.3, 12.3,  8.8,\n",
      "        7.2, 10.5,  7.4, 10.2, 11.5, 15.1, 23.2,  9.7, 13.8, 12.7, 13.1,\n",
      "       12.5,  8.5,  5. ,  6.3,  5.6,  7.2, 12.1,  8.3,  8.5,  5. , 11.9,\n",
      "       27.9, 17.2, 27.5, 15. , 17.2, 17.9, 16.3,  7. ,  7.2,  7.5, 10.4,\n",
      "        8.8,  8.4, 16.7, 14.2, 20.8, 13.4, 11.7,  8.3, 10.2, 10.9, 11. ,\n",
      "        9.5, 14.5, 14.1, 16.1, 14.3, 11.7, 13.4,  9.6,  8.7,  8.4, 12.8,\n",
      "       10.5, 17.1, 18.4, 15.4, 10.8, 11.8, 14.9, 12.6, 14.1, 13. , 13.4,\n",
      "       15.2, 16.1, 17.8, 14.9, 14.1, 12.7, 13.5, 14.9, 20. , 16.4, 17.7,\n",
      "       19.5, 20.2, 21.4, 19.9, 19. , 19.1, 19.1, 20.1, 19.9, 19.6, 23.2,\n",
      "       29.8, 13.8, 13.3, 16.7, 12. , 14.6, 21.4, 23. , 23.7, 25. , 21.8,\n",
      "       20.6, 21.2, 19.1, 20.6, 15.2,  7. ,  8.1, 13.6, 20.1, 21.8, 24.5,\n",
      "       23.1, 19.7, 18.3, 21.2, 17.5, 16.8, 22.4, 20.6, 23.9, 22. , 11.9]), 'feature_names': array(['CRIM', 'ZN', 'INDUS', 'CHAS', 'NOX', 'RM', 'AGE', 'DIS', 'RAD',\n",
      "       'TAX', 'PTRATIO', 'B', 'LSTAT'], dtype='<U7'), 'DESCR': \".. _boston_dataset:\\n\\nBoston house prices dataset\\n---------------------------\\n\\n**Data Set Characteristics:**  \\n\\n    :Number of Instances: 506 \\n\\n    :Number of Attributes: 13 numeric/categorical predictive. Median Value (attribute 14) is usually the target.\\n\\n    :Attribute Information (in order):\\n        - CRIM     per capita crime rate by town\\n        - ZN       proportion of residential land zoned for lots over 25,000 sq.ft.\\n        - INDUS    proportion of non-retail business acres per town\\n        - CHAS     Charles River dummy variable (= 1 if tract bounds river; 0 otherwise)\\n        - NOX      nitric oxides concentration (parts per 10 million)\\n        - RM       average number of rooms per dwelling\\n        - AGE      proportion of owner-occupied units built prior to 1940\\n        - DIS      weighted distances to five Boston employment centres\\n        - RAD      index of accessibility to radial highways\\n        - TAX      full-value property-tax rate per $10,000\\n        - PTRATIO  pupil-teacher ratio by town\\n        - B        1000(Bk - 0.63)^2 where Bk is the proportion of blacks by town\\n        - LSTAT    % lower status of the population\\n        - MEDV     Median value of owner-occupied homes in $1000's\\n\\n    :Missing Attribute Values: None\\n\\n    :Creator: Harrison, D. and Rubinfeld, D.L.\\n\\nThis is a copy of UCI ML housing dataset.\\nhttps://archive.ics.uci.edu/ml/machine-learning-databases/housing/\\n\\n\\nThis dataset was taken from the StatLib library which is maintained at Carnegie Mellon University.\\n\\nThe Boston house-price data of Harrison, D. and Rubinfeld, D.L. 'Hedonic\\nprices and the demand for clean air', J. Environ. Economics & Management,\\nvol.5, 81-102, 1978.   Used in Belsley, Kuh & Welsch, 'Regression diagnostics\\n...', Wiley, 1980.   N.B. Various transformations are used in the table on\\npages 244-261 of the latter.\\n\\nThe Boston house-price data has been used in many machine learning papers that address regression\\nproblems.   \\n     \\n.. topic:: References\\n\\n   - Belsley, Kuh & Welsch, 'Regression diagnostics: Identifying Influential Data and Sources of Collinearity', Wiley, 1980. 244-261.\\n   - Quinlan,R. (1993). Combining Instance-Based and Model-Based Learning. In Proceedings on the Tenth International Conference of Machine Learning, 236-243, University of Massachusetts, Amherst. Morgan Kaufmann.\\n\", 'filename': '/Users/ryuji_sato/.pyenv/versions/anaconda3-5.3.1/lib/python3.7/site-packages/sklearn/datasets/data/boston_house_prices.csv'}\n"
     ]
    }
   ],
   "source": [
    "#インポートしたデータを確認(data / target / feature_names / DESCR)\n",
    "print(boston)"
   ]
  },
  {
   "cell_type": "code",
   "execution_count": 4,
   "metadata": {
    "ExecuteTime": {
     "end_time": "2021-01-08T10:33:36.054985Z",
     "start_time": "2021-01-08T10:33:36.048193Z"
    },
    "scrolled": true
   },
   "outputs": [
    {
     "name": "stdout",
     "output_type": "stream",
     "text": [
      ".. _boston_dataset:\n",
      "\n",
      "Boston house prices dataset\n",
      "---------------------------\n",
      "\n",
      "**Data Set Characteristics:**  \n",
      "\n",
      "    :Number of Instances: 506 \n",
      "\n",
      "    :Number of Attributes: 13 numeric/categorical predictive. Median Value (attribute 14) is usually the target.\n",
      "\n",
      "    :Attribute Information (in order):\n",
      "        - CRIM     per capita crime rate by town\n",
      "        - ZN       proportion of residential land zoned for lots over 25,000 sq.ft.\n",
      "        - INDUS    proportion of non-retail business acres per town\n",
      "        - CHAS     Charles River dummy variable (= 1 if tract bounds river; 0 otherwise)\n",
      "        - NOX      nitric oxides concentration (parts per 10 million)\n",
      "        - RM       average number of rooms per dwelling\n",
      "        - AGE      proportion of owner-occupied units built prior to 1940\n",
      "        - DIS      weighted distances to five Boston employment centres\n",
      "        - RAD      index of accessibility to radial highways\n",
      "        - TAX      full-value property-tax rate per $10,000\n",
      "        - PTRATIO  pupil-teacher ratio by town\n",
      "        - B        1000(Bk - 0.63)^2 where Bk is the proportion of blacks by town\n",
      "        - LSTAT    % lower status of the population\n",
      "        - MEDV     Median value of owner-occupied homes in $1000's\n",
      "\n",
      "    :Missing Attribute Values: None\n",
      "\n",
      "    :Creator: Harrison, D. and Rubinfeld, D.L.\n",
      "\n",
      "This is a copy of UCI ML housing dataset.\n",
      "https://archive.ics.uci.edu/ml/machine-learning-databases/housing/\n",
      "\n",
      "\n",
      "This dataset was taken from the StatLib library which is maintained at Carnegie Mellon University.\n",
      "\n",
      "The Boston house-price data of Harrison, D. and Rubinfeld, D.L. 'Hedonic\n",
      "prices and the demand for clean air', J. Environ. Economics & Management,\n",
      "vol.5, 81-102, 1978.   Used in Belsley, Kuh & Welsch, 'Regression diagnostics\n",
      "...', Wiley, 1980.   N.B. Various transformations are used in the table on\n",
      "pages 244-261 of the latter.\n",
      "\n",
      "The Boston house-price data has been used in many machine learning papers that address regression\n",
      "problems.   \n",
      "     \n",
      ".. topic:: References\n",
      "\n",
      "   - Belsley, Kuh & Welsch, 'Regression diagnostics: Identifying Influential Data and Sources of Collinearity', Wiley, 1980. 244-261.\n",
      "   - Quinlan,R. (1993). Combining Instance-Based and Model-Based Learning. In Proceedings on the Tenth International Conference of Machine Learning, 236-243, University of Massachusetts, Amherst. Morgan Kaufmann.\n",
      "\n"
     ]
    }
   ],
   "source": [
    "#DESCR変数の中身を確認\n",
    "print(boston['DESCR'])"
   ]
  },
  {
   "cell_type": "code",
   "execution_count": 5,
   "metadata": {
    "ExecuteTime": {
     "end_time": "2021-01-08T10:33:36.062346Z",
     "start_time": "2021-01-08T10:33:36.058160Z"
    }
   },
   "outputs": [
    {
     "name": "stdout",
     "output_type": "stream",
     "text": [
      "['CRIM' 'ZN' 'INDUS' 'CHAS' 'NOX' 'RM' 'AGE' 'DIS' 'RAD' 'TAX' 'PTRATIO'\n",
      " 'B' 'LSTAT']\n"
     ]
    }
   ],
   "source": [
    "#feature_names変数の中身を確認\n",
    "#カラム名\n",
    "print(boston['feature_names'])"
   ]
  },
  {
   "cell_type": "code",
   "execution_count": 6,
   "metadata": {
    "ExecuteTime": {
     "end_time": "2021-01-08T10:33:36.070499Z",
     "start_time": "2021-01-08T10:33:36.065351Z"
    }
   },
   "outputs": [
    {
     "name": "stdout",
     "output_type": "stream",
     "text": [
      "[[6.3200e-03 1.8000e+01 2.3100e+00 ... 1.5300e+01 3.9690e+02 4.9800e+00]\n",
      " [2.7310e-02 0.0000e+00 7.0700e+00 ... 1.7800e+01 3.9690e+02 9.1400e+00]\n",
      " [2.7290e-02 0.0000e+00 7.0700e+00 ... 1.7800e+01 3.9283e+02 4.0300e+00]\n",
      " ...\n",
      " [6.0760e-02 0.0000e+00 1.1930e+01 ... 2.1000e+01 3.9690e+02 5.6400e+00]\n",
      " [1.0959e-01 0.0000e+00 1.1930e+01 ... 2.1000e+01 3.9345e+02 6.4800e+00]\n",
      " [4.7410e-02 0.0000e+00 1.1930e+01 ... 2.1000e+01 3.9690e+02 7.8800e+00]]\n"
     ]
    }
   ],
   "source": [
    "#data変数(説明変数)の中身を確認\n",
    "print(boston['data'])"
   ]
  },
  {
   "cell_type": "code",
   "execution_count": 7,
   "metadata": {
    "ExecuteTime": {
     "end_time": "2021-01-08T10:33:36.085990Z",
     "start_time": "2021-01-08T10:33:36.076854Z"
    },
    "scrolled": true
   },
   "outputs": [
    {
     "name": "stdout",
     "output_type": "stream",
     "text": [
      "[24.  21.6 34.7 33.4 36.2 28.7 22.9 27.1 16.5 18.9 15.  18.9 21.7 20.4\n",
      " 18.2 19.9 23.1 17.5 20.2 18.2 13.6 19.6 15.2 14.5 15.6 13.9 16.6 14.8\n",
      " 18.4 21.  12.7 14.5 13.2 13.1 13.5 18.9 20.  21.  24.7 30.8 34.9 26.6\n",
      " 25.3 24.7 21.2 19.3 20.  16.6 14.4 19.4 19.7 20.5 25.  23.4 18.9 35.4\n",
      " 24.7 31.6 23.3 19.6 18.7 16.  22.2 25.  33.  23.5 19.4 22.  17.4 20.9\n",
      " 24.2 21.7 22.8 23.4 24.1 21.4 20.  20.8 21.2 20.3 28.  23.9 24.8 22.9\n",
      " 23.9 26.6 22.5 22.2 23.6 28.7 22.6 22.  22.9 25.  20.6 28.4 21.4 38.7\n",
      " 43.8 33.2 27.5 26.5 18.6 19.3 20.1 19.5 19.5 20.4 19.8 19.4 21.7 22.8\n",
      " 18.8 18.7 18.5 18.3 21.2 19.2 20.4 19.3 22.  20.3 20.5 17.3 18.8 21.4\n",
      " 15.7 16.2 18.  14.3 19.2 19.6 23.  18.4 15.6 18.1 17.4 17.1 13.3 17.8\n",
      " 14.  14.4 13.4 15.6 11.8 13.8 15.6 14.6 17.8 15.4 21.5 19.6 15.3 19.4\n",
      " 17.  15.6 13.1 41.3 24.3 23.3 27.  50.  50.  50.  22.7 25.  50.  23.8\n",
      " 23.8 22.3 17.4 19.1 23.1 23.6 22.6 29.4 23.2 24.6 29.9 37.2 39.8 36.2\n",
      " 37.9 32.5 26.4 29.6 50.  32.  29.8 34.9 37.  30.5 36.4 31.1 29.1 50.\n",
      " 33.3 30.3 34.6 34.9 32.9 24.1 42.3 48.5 50.  22.6 24.4 22.5 24.4 20.\n",
      " 21.7 19.3 22.4 28.1 23.7 25.  23.3 28.7 21.5 23.  26.7 21.7 27.5 30.1\n",
      " 44.8 50.  37.6 31.6 46.7 31.5 24.3 31.7 41.7 48.3 29.  24.  25.1 31.5\n",
      " 23.7 23.3 22.  20.1 22.2 23.7 17.6 18.5 24.3 20.5 24.5 26.2 24.4 24.8\n",
      " 29.6 42.8 21.9 20.9 44.  50.  36.  30.1 33.8 43.1 48.8 31.  36.5 22.8\n",
      " 30.7 50.  43.5 20.7 21.1 25.2 24.4 35.2 32.4 32.  33.2 33.1 29.1 35.1\n",
      " 45.4 35.4 46.  50.  32.2 22.  20.1 23.2 22.3 24.8 28.5 37.3 27.9 23.9\n",
      " 21.7 28.6 27.1 20.3 22.5 29.  24.8 22.  26.4 33.1 36.1 28.4 33.4 28.2\n",
      " 22.8 20.3 16.1 22.1 19.4 21.6 23.8 16.2 17.8 19.8 23.1 21.  23.8 23.1\n",
      " 20.4 18.5 25.  24.6 23.  22.2 19.3 22.6 19.8 17.1 19.4 22.2 20.7 21.1\n",
      " 19.5 18.5 20.6 19.  18.7 32.7 16.5 23.9 31.2 17.5 17.2 23.1 24.5 26.6\n",
      " 22.9 24.1 18.6 30.1 18.2 20.6 17.8 21.7 22.7 22.6 25.  19.9 20.8 16.8\n",
      " 21.9 27.5 21.9 23.1 50.  50.  50.  50.  50.  13.8 13.8 15.  13.9 13.3\n",
      " 13.1 10.2 10.4 10.9 11.3 12.3  8.8  7.2 10.5  7.4 10.2 11.5 15.1 23.2\n",
      "  9.7 13.8 12.7 13.1 12.5  8.5  5.   6.3  5.6  7.2 12.1  8.3  8.5  5.\n",
      " 11.9 27.9 17.2 27.5 15.  17.2 17.9 16.3  7.   7.2  7.5 10.4  8.8  8.4\n",
      " 16.7 14.2 20.8 13.4 11.7  8.3 10.2 10.9 11.   9.5 14.5 14.1 16.1 14.3\n",
      " 11.7 13.4  9.6  8.7  8.4 12.8 10.5 17.1 18.4 15.4 10.8 11.8 14.9 12.6\n",
      " 14.1 13.  13.4 15.2 16.1 17.8 14.9 14.1 12.7 13.5 14.9 20.  16.4 17.7\n",
      " 19.5 20.2 21.4 19.9 19.  19.1 19.1 20.1 19.9 19.6 23.2 29.8 13.8 13.3\n",
      " 16.7 12.  14.6 21.4 23.  23.7 25.  21.8 20.6 21.2 19.1 20.6 15.2  7.\n",
      "  8.1 13.6 20.1 21.8 24.5 23.1 19.7 18.3 21.2 17.5 16.8 22.4 20.6 23.9\n",
      " 22.  11.9]\n"
     ]
    }
   ],
   "source": [
    "#target変数(目的変数)の中身を確認\n",
    "print(boston['target'])"
   ]
  },
  {
   "cell_type": "code",
   "execution_count": 8,
   "metadata": {
    "ExecuteTime": {
     "end_time": "2021-01-08T10:33:36.093611Z",
     "start_time": "2021-01-08T10:33:36.089721Z"
    }
   },
   "outputs": [],
   "source": [
    "#　説明変数らをDataFrameへ変換\n",
    "df = DataFrame(data=boston.data, columns = boston.feature_names)"
   ]
  },
  {
   "cell_type": "code",
   "execution_count": 9,
   "metadata": {
    "ExecuteTime": {
     "end_time": "2021-01-08T10:33:36.100373Z",
     "start_time": "2021-01-08T10:33:36.096424Z"
    }
   },
   "outputs": [],
   "source": [
    "# 目的変数をDataFrameへ追加\n",
    "df['PRICE'] = np.array(boston.target)"
   ]
  },
  {
   "cell_type": "code",
   "execution_count": 10,
   "metadata": {
    "ExecuteTime": {
     "end_time": "2021-01-08T10:33:36.131858Z",
     "start_time": "2021-01-08T10:33:36.104007Z"
    }
   },
   "outputs": [
    {
     "data": {
      "text/html": [
       "<div>\n",
       "<style scoped>\n",
       "    .dataframe tbody tr th:only-of-type {\n",
       "        vertical-align: middle;\n",
       "    }\n",
       "\n",
       "    .dataframe tbody tr th {\n",
       "        vertical-align: top;\n",
       "    }\n",
       "\n",
       "    .dataframe thead th {\n",
       "        text-align: right;\n",
       "    }\n",
       "</style>\n",
       "<table border=\"1\" class=\"dataframe\">\n",
       "  <thead>\n",
       "    <tr style=\"text-align: right;\">\n",
       "      <th></th>\n",
       "      <th>CRIM</th>\n",
       "      <th>ZN</th>\n",
       "      <th>INDUS</th>\n",
       "      <th>CHAS</th>\n",
       "      <th>NOX</th>\n",
       "      <th>RM</th>\n",
       "      <th>AGE</th>\n",
       "      <th>DIS</th>\n",
       "      <th>RAD</th>\n",
       "      <th>TAX</th>\n",
       "      <th>PTRATIO</th>\n",
       "      <th>B</th>\n",
       "      <th>LSTAT</th>\n",
       "      <th>PRICE</th>\n",
       "    </tr>\n",
       "  </thead>\n",
       "  <tbody>\n",
       "    <tr>\n",
       "      <th>0</th>\n",
       "      <td>0.00632</td>\n",
       "      <td>18.0</td>\n",
       "      <td>2.31</td>\n",
       "      <td>0.0</td>\n",
       "      <td>0.538</td>\n",
       "      <td>6.575</td>\n",
       "      <td>65.2</td>\n",
       "      <td>4.0900</td>\n",
       "      <td>1.0</td>\n",
       "      <td>296.0</td>\n",
       "      <td>15.3</td>\n",
       "      <td>396.90</td>\n",
       "      <td>4.98</td>\n",
       "      <td>24.0</td>\n",
       "    </tr>\n",
       "    <tr>\n",
       "      <th>1</th>\n",
       "      <td>0.02731</td>\n",
       "      <td>0.0</td>\n",
       "      <td>7.07</td>\n",
       "      <td>0.0</td>\n",
       "      <td>0.469</td>\n",
       "      <td>6.421</td>\n",
       "      <td>78.9</td>\n",
       "      <td>4.9671</td>\n",
       "      <td>2.0</td>\n",
       "      <td>242.0</td>\n",
       "      <td>17.8</td>\n",
       "      <td>396.90</td>\n",
       "      <td>9.14</td>\n",
       "      <td>21.6</td>\n",
       "    </tr>\n",
       "    <tr>\n",
       "      <th>2</th>\n",
       "      <td>0.02729</td>\n",
       "      <td>0.0</td>\n",
       "      <td>7.07</td>\n",
       "      <td>0.0</td>\n",
       "      <td>0.469</td>\n",
       "      <td>7.185</td>\n",
       "      <td>61.1</td>\n",
       "      <td>4.9671</td>\n",
       "      <td>2.0</td>\n",
       "      <td>242.0</td>\n",
       "      <td>17.8</td>\n",
       "      <td>392.83</td>\n",
       "      <td>4.03</td>\n",
       "      <td>34.7</td>\n",
       "    </tr>\n",
       "    <tr>\n",
       "      <th>3</th>\n",
       "      <td>0.03237</td>\n",
       "      <td>0.0</td>\n",
       "      <td>2.18</td>\n",
       "      <td>0.0</td>\n",
       "      <td>0.458</td>\n",
       "      <td>6.998</td>\n",
       "      <td>45.8</td>\n",
       "      <td>6.0622</td>\n",
       "      <td>3.0</td>\n",
       "      <td>222.0</td>\n",
       "      <td>18.7</td>\n",
       "      <td>394.63</td>\n",
       "      <td>2.94</td>\n",
       "      <td>33.4</td>\n",
       "    </tr>\n",
       "    <tr>\n",
       "      <th>4</th>\n",
       "      <td>0.06905</td>\n",
       "      <td>0.0</td>\n",
       "      <td>2.18</td>\n",
       "      <td>0.0</td>\n",
       "      <td>0.458</td>\n",
       "      <td>7.147</td>\n",
       "      <td>54.2</td>\n",
       "      <td>6.0622</td>\n",
       "      <td>3.0</td>\n",
       "      <td>222.0</td>\n",
       "      <td>18.7</td>\n",
       "      <td>396.90</td>\n",
       "      <td>5.33</td>\n",
       "      <td>36.2</td>\n",
       "    </tr>\n",
       "  </tbody>\n",
       "</table>\n",
       "</div>"
      ],
      "text/plain": [
       "      CRIM    ZN  INDUS  CHAS    NOX     RM   AGE     DIS  RAD    TAX  \\\n",
       "0  0.00632  18.0   2.31   0.0  0.538  6.575  65.2  4.0900  1.0  296.0   \n",
       "1  0.02731   0.0   7.07   0.0  0.469  6.421  78.9  4.9671  2.0  242.0   \n",
       "2  0.02729   0.0   7.07   0.0  0.469  7.185  61.1  4.9671  2.0  242.0   \n",
       "3  0.03237   0.0   2.18   0.0  0.458  6.998  45.8  6.0622  3.0  222.0   \n",
       "4  0.06905   0.0   2.18   0.0  0.458  7.147  54.2  6.0622  3.0  222.0   \n",
       "\n",
       "   PTRATIO       B  LSTAT  PRICE  \n",
       "0     15.3  396.90   4.98   24.0  \n",
       "1     17.8  396.90   9.14   21.6  \n",
       "2     17.8  392.83   4.03   34.7  \n",
       "3     18.7  394.63   2.94   33.4  \n",
       "4     18.7  396.90   5.33   36.2  "
      ]
     },
     "execution_count": 10,
     "metadata": {},
     "output_type": "execute_result"
    }
   ],
   "source": [
    "# 最初の5行を表示\n",
    "df.head(5)"
   ]
  },
  {
   "cell_type": "markdown",
   "metadata": {},
   "source": [
    "#### 線形単回帰分析"
   ]
  },
  {
   "cell_type": "code",
   "execution_count": 11,
   "metadata": {
    "ExecuteTime": {
     "end_time": "2021-01-08T10:33:36.139058Z",
     "start_time": "2021-01-08T10:33:36.134392Z"
    }
   },
   "outputs": [],
   "source": [
    "# 説明変数\n",
    "data = df.loc[:, ['RM']].values"
   ]
  },
  {
   "cell_type": "code",
   "execution_count": 12,
   "metadata": {
    "ExecuteTime": {
     "end_time": "2021-01-08T10:33:36.144661Z",
     "start_time": "2021-01-08T10:33:36.141406Z"
    }
   },
   "outputs": [],
   "source": [
    "# 目的変数\n",
    "target = df.loc[:, 'PRICE'].values"
   ]
  },
  {
   "cell_type": "code",
   "execution_count": 13,
   "metadata": {
    "ExecuteTime": {
     "end_time": "2021-01-08T10:33:36.150032Z",
     "start_time": "2021-01-08T10:33:36.147308Z"
    }
   },
   "outputs": [],
   "source": [
    "# オブジェクト生成\n",
    "model = LinearRegression()\n",
    "#model.get_params()\n",
    "#model = LinearRegression(fit_intercept = True, normalize = False, copy_X = True,  n_jobs = 1)"
   ]
  },
  {
   "cell_type": "code",
   "execution_count": 14,
   "metadata": {
    "ExecuteTime": {
     "end_time": "2021-01-08T10:33:36.171869Z",
     "start_time": "2021-01-08T10:33:36.153749Z"
    }
   },
   "outputs": [
    {
     "data": {
      "text/plain": [
       "LinearRegression(copy_X=True, fit_intercept=True, n_jobs=None, normalize=False)"
      ]
     },
     "execution_count": 14,
     "metadata": {},
     "output_type": "execute_result"
    }
   ],
   "source": [
    "# fit関数でパラメータ推定\n",
    "model.fit(data, target)"
   ]
  },
  {
   "cell_type": "code",
   "execution_count": 15,
   "metadata": {
    "ExecuteTime": {
     "end_time": "2021-01-08T10:33:36.181162Z",
     "start_time": "2021-01-08T10:33:36.174263Z"
    }
   },
   "outputs": [
    {
     "data": {
      "text/plain": [
       "array([-25.5685118])"
      ]
     },
     "execution_count": 15,
     "metadata": {},
     "output_type": "execute_result"
    }
   ],
   "source": [
    "#予測\n",
    "model.predict([[1]])"
   ]
  },
  {
   "cell_type": "markdown",
   "metadata": {},
   "source": [
    "#### 重回帰分析(2変数)"
   ]
  },
  {
   "cell_type": "code",
   "execution_count": 16,
   "metadata": {
    "ExecuteTime": {
     "end_time": "2021-01-08T10:33:36.198201Z",
     "start_time": "2021-01-08T10:33:36.184734Z"
    }
   },
   "outputs": [
    {
     "data": {
      "text/html": [
       "<div>\n",
       "<style scoped>\n",
       "    .dataframe tbody tr th:only-of-type {\n",
       "        vertical-align: middle;\n",
       "    }\n",
       "\n",
       "    .dataframe tbody tr th {\n",
       "        vertical-align: top;\n",
       "    }\n",
       "\n",
       "    .dataframe thead th {\n",
       "        text-align: right;\n",
       "    }\n",
       "</style>\n",
       "<table border=\"1\" class=\"dataframe\">\n",
       "  <thead>\n",
       "    <tr style=\"text-align: right;\">\n",
       "      <th></th>\n",
       "      <th>CRIM</th>\n",
       "      <th>RM</th>\n",
       "    </tr>\n",
       "  </thead>\n",
       "  <tbody>\n",
       "    <tr>\n",
       "      <th>0</th>\n",
       "      <td>0.00632</td>\n",
       "      <td>6.575</td>\n",
       "    </tr>\n",
       "    <tr>\n",
       "      <th>1</th>\n",
       "      <td>0.02731</td>\n",
       "      <td>6.421</td>\n",
       "    </tr>\n",
       "    <tr>\n",
       "      <th>2</th>\n",
       "      <td>0.02729</td>\n",
       "      <td>7.185</td>\n",
       "    </tr>\n",
       "    <tr>\n",
       "      <th>3</th>\n",
       "      <td>0.03237</td>\n",
       "      <td>6.998</td>\n",
       "    </tr>\n",
       "    <tr>\n",
       "      <th>4</th>\n",
       "      <td>0.06905</td>\n",
       "      <td>7.147</td>\n",
       "    </tr>\n",
       "  </tbody>\n",
       "</table>\n",
       "</div>"
      ],
      "text/plain": [
       "      CRIM     RM\n",
       "0  0.00632  6.575\n",
       "1  0.02731  6.421\n",
       "2  0.02729  7.185\n",
       "3  0.03237  6.998\n",
       "4  0.06905  7.147"
      ]
     },
     "execution_count": 16,
     "metadata": {},
     "output_type": "execute_result"
    }
   ],
   "source": [
    "#カラムを指定してデータを表示\n",
    "df[['CRIM', 'RM']].head()"
   ]
  },
  {
   "cell_type": "code",
   "execution_count": 17,
   "metadata": {
    "ExecuteTime": {
     "end_time": "2021-01-08T10:33:36.207981Z",
     "start_time": "2021-01-08T10:33:36.202022Z"
    }
   },
   "outputs": [],
   "source": [
    "# 説明変数\n",
    "data2 = df.loc[:, ['CRIM', 'RM']].values\n",
    "# 目的変数\n",
    "target2 = df.loc[:, 'PRICE'].values"
   ]
  },
  {
   "cell_type": "code",
   "execution_count": 18,
   "metadata": {
    "ExecuteTime": {
     "end_time": "2021-01-08T10:33:36.213575Z",
     "start_time": "2021-01-08T10:33:36.210616Z"
    }
   },
   "outputs": [],
   "source": [
    "# オブジェクト生成\n",
    "model2 = LinearRegression()"
   ]
  },
  {
   "cell_type": "code",
   "execution_count": 19,
   "metadata": {
    "ExecuteTime": {
     "end_time": "2021-01-08T10:33:36.224530Z",
     "start_time": "2021-01-08T10:33:36.216214Z"
    }
   },
   "outputs": [
    {
     "data": {
      "text/plain": [
       "LinearRegression(copy_X=True, fit_intercept=True, n_jobs=None, normalize=False)"
      ]
     },
     "execution_count": 19,
     "metadata": {},
     "output_type": "execute_result"
    }
   ],
   "source": [
    "# fit関数でパラメータ推定\n",
    "model2.fit(data2, target2)"
   ]
  },
  {
   "cell_type": "code",
   "execution_count": 20,
   "metadata": {
    "ExecuteTime": {
     "end_time": "2021-01-08T10:33:36.233817Z",
     "start_time": "2021-01-08T10:33:36.227162Z"
    }
   },
   "outputs": [
    {
     "data": {
      "text/plain": [
       "array([29.43977562])"
      ]
     },
     "execution_count": 20,
     "metadata": {},
     "output_type": "execute_result"
    }
   ],
   "source": [
    "model2.predict([[0.2, 7]])"
   ]
  },
  {
   "cell_type": "markdown",
   "metadata": {},
   "source": [
    "#### 回帰係数と切片の値を確認"
   ]
  },
  {
   "cell_type": "code",
   "execution_count": 21,
   "metadata": {
    "ExecuteTime": {
     "end_time": "2021-01-08T10:33:36.242114Z",
     "start_time": "2021-01-08T10:33:36.236923Z"
    }
   },
   "outputs": [
    {
     "name": "stdout",
     "output_type": "stream",
     "text": [
      "推定された回帰係数: 9.102, 推定された切片 : -34.671\n"
     ]
    }
   ],
   "source": [
    "# 単回帰の回帰係数と切片を出力\n",
    "print('推定された回帰係数: %.3f, 推定された切片 : %.3f' % (model.coef_, model.intercept_))"
   ]
  },
  {
   "cell_type": "code",
   "execution_count": 22,
   "metadata": {
    "ExecuteTime": {
     "end_time": "2021-01-08T10:33:36.254412Z",
     "start_time": "2021-01-08T10:33:36.249236Z"
    }
   },
   "outputs": [
    {
     "name": "stdout",
     "output_type": "stream",
     "text": [
      "[9.10210898]\n",
      "-34.67062077643857\n"
     ]
    }
   ],
   "source": [
    "# 重回帰の回帰係数と切片を出力\n",
    "print(model.coef_)\n",
    "print(model.intercept_)"
   ]
  },
  {
   "cell_type": "markdown",
   "metadata": {},
   "source": [
    "## 非線形回帰モデル"
   ]
  },
  {
   "cell_type": "markdown",
   "metadata": {},
   "source": [
    "### 非線形回帰モデル"
   ]
  },
  {
   "cell_type": "markdown",
   "metadata": {},
   "source": [
    "- 基底展開法  \n",
    "    - 回帰関数  \n",
    "      $$\n",
    "       y_{i} = f(x_{i}) + \\varepsilon_{i}\n",
    "      $$\n",
    "      $$\n",
    "       y_{i} = w_{0} + \\sum_{j=1}^{m}w_{j}\\phi_{j}(x_{i}) + \\varepsilon_{i}\n",
    "      $$\n",
    "        - 切片 $w_{0}$  \n",
    "        - 基底関数 $\\phi_{j}(x_{i})$  \n",
    "          既知の非線形関数、**線形の写像によって非線形化する**らしい  \n",
    "          計画行列  \n",
    "          - よく使われる基底関数\n",
    "              - 多項式関数\n",
    "              - ガウス型基底関数  \n",
    "                 バンド幅$h_{j}$  \n",
    "              $$\n",
    "              \\phi_{j}(x_{i}) = \\exp(\\frac{(x-\\mu_{j})^{2}}{2h_{j}})\n",
    "              $$\n",
    "              - スプライン関数 / Bスプライン関数\n",
    "        - パラメータベクトル $\\varepsilon_{i}$ "
   ]
  },
  {
   "cell_type": "markdown",
   "metadata": {},
   "source": [
    "### 正則化法"
   ]
  },
  {
   "cell_type": "markdown",
   "metadata": {},
   "source": [
    "- 未学習(underfitting)  \n",
    "    - 学習データに対して誤差が小さくならない  \n",
    "        - モデルの表現力が低いため、表現力の高いモデルを利用する\n",
    "- 過学習(overfitting)  \n",
    "    - 学習データに対する誤差は小さいが、汎化性能が低い  \n",
    "        - 学習データを増やす  \n",
    "        - 不要な基底関数(変数)を削除して表現力を抑止  \n",
    "        - 正則化法(正則化項を加える)を利用して表現力を抑止  "
   ]
  },
  {
   "cell_type": "markdown",
   "metadata": {},
   "source": [
    "- 正則化法(罰則化法)  \n",
    "$$\n",
    "S_{\\gamma} = (y-\\phi w)^{T}(y - \\phi w)+\\gamma R(w) \\; \\; \\gamma(>0)\n",
    "$$\n",
    "    - 「モデルの複雑さに伴って、その値が大きくなる正則化項(罰則化項)を課した関数」を最小化\n",
    "    - 正則化項(罰則化項)  \n",
    "        - 形状によって種類がある  \n",
    "            - 正則化項無し : 最小二乗推定量\n",
    "            - L2ノルムを利用 : Ridge推定量\n",
    "              - 縮小推定  \n",
    "                パラメータを0に近づけるように推定\n",
    "            - L1ノルムを利用 : Lasso推定量\n",
    "                - スパース推定  \n",
    "                  いくつかのパラメータを正確に0に推定  \n",
    "                  - 次元削減  \n",
    "                    不要な基底関数、特徴量を排除することができる！学習コストの軽減に繋がる！\n",
    "    - 正則化(平滑化)パラメータ $\\gamma$  \n",
    "        - モデルの曲線の滑らかさを調整  \n",
    "            - 適切に決める必要あり  \n",
    "              パラメータを小さくすると、制約面が大きくなる  \n",
    "              パラメータを大きくすると、制約面が小さくなる  "
   ]
  },
  {
   "cell_type": "markdown",
   "metadata": {},
   "source": [
    "### モデル選択"
   ]
  },
  {
   "cell_type": "markdown",
   "metadata": {},
   "source": [
    "- ホールドアウト法  \n",
    "    - 学習用データと検証データを固定する  \n",
    "    - 学習用データが減ってしまう\n",
    "    - データに外れ値の偏り等が生じてしまう場合があり、学習がうまくいかないことがある\n",
    "- クロスバリデーション法  \n",
    "    - データをk分割して、(k-1)個のデータで学習、１個のデータで検証する。\n",
    "    - 学習、検証するデータをずらしていく"
   ]
  },
  {
   "cell_type": "markdown",
   "metadata": {},
   "source": [
    "## ロジスティック回帰"
   ]
  },
  {
   "cell_type": "markdown",
   "metadata": {},
   "source": [
    "### ロジスティック回帰"
   ]
  },
  {
   "cell_type": "markdown",
   "metadata": {},
   "source": [
    "- 入力 \n",
    "    - 説明変数(特徴量)   \n",
    "       m次元のベクトル(vector)  \n",
    "      $$\n",
    "       \\boldsymbol{x} = (x_{1}, x_{2}, ..., x_{m})^{\\mathrm{T}} \\in \\mathbb{R}^{m}\n",
    "      $$\n",
    "- 出力\n",
    "    - 目的変数  \n",
    "      1次元(scalar)\n",
    "      $$\n",
    "       y \\in \\{ 0,1 \\}\n",
    "      $$\n",
    "- パラメータ  \n",
    "    - 各特徴量に対する重み $\\boldsymbol{w}=  (w_{1}, w_{2}, ..., w_{m})$\n",
    "    - 切片(bias) $w_{0}$\n",
    "- 処理  \n",
    "  途中までは線形回帰モデルと同じ。下記の式の$\\hat{y}$をシグモイド関数の引数とし、その返値がクラスに分類される確率になる。  \n",
    "  各クラスに対して、分類される確率を求めて、最も確率の高いクラスに分類する。  \n",
    "    - 式  \n",
    "      $$\n",
    "      \\hat{y} = \\boldsymbol{w}^{\\mathrm{T}} \\cdot{\\boldsymbol{x}} + w_0 = \\sum_{j=1}^{m}w_{j}x_{j} + w_{0}\n",
    "      $$\n",
    "    - 線形結合\n",
    "        - 入力とパラメータの内積  \n",
    "            - 自分の言葉で言い換えると「特徴量と重みのドット積」  \n",
    "    - 切片($w_{0}$)を足し合わせる  \n",
    "        - X軸に対して平行移動する  \n",
    "    - シグモイド関数  \n",
    "     $$\n",
    "     \\sigma (x) = \\frac{1}{1+\\exp{-ax} }\n",
    "     $$\n",
    "         - 入力は実数、出力は0--1  \n",
    "         - そのクラスに分類される確率を表現  \n",
    "         - 単調増加関数  \n",
    "         - $a$を増加させると、x=0付近での曲線の勾配が増加  \n",
    "         - $a$を極めて大きくすると単調ステップ関数に近似する  \n",
    "         - バイアス変化は段差の位置  \n",
    "         - 性質  \n",
    "             - **シグモイド関数の微分は、シグモイド関数自身で表現することが可能**\n",
    "             - 尤度関数の微分を行う際に利用する\n",
    "- 評価関数  \n",
    "    - MSE  \n",
    "        - 日本語では「平均二乗誤差」、「残差平方和」  \n",
    "        [機械学習で使われる評価関数まとめ - Qiita](https://qiita.com/monda00/items/a2ee8e0da51953c24da8)\n",
    "- 目的関数（損失関数）  \n",
    "    - 最小二乗法  \n",
    "    - 最尤法  \n",
    "- ハイパーパラメータ\n",
    "    - 学習率  \n",
    "- 確率分布\n",
    "    - ベルヌーイ分布"
   ]
  },
  {
   "cell_type": "markdown",
   "metadata": {},
   "source": [
    "### 最尤推定"
   ]
  },
  {
   "cell_type": "markdown",
   "metadata": {},
   "source": [
    "- 尤度  \n",
    "  仮定する確率分布のパラメータのもっともらしさの度合い。ここでいうパラメータは、ベルヌーイ分布でいうp（発生確率、成功確率）である。\n",
    "- 最尤推定は尤度からパラメータを推定する。\n",
    "    - 尤度関数を最大化する\n",
    "        - 同時確率の計算  \n",
    "        - そのままの値ではなく、対数を最大化する\n",
    "            - 対数尤度関数  \n",
    "              計算が簡単になる\n",
    "        - ***尤度関数にマイナスを掛けた値を最小化し、最小二乗法の最小化と合わせる！！！***  \n",
    "          知らなかった！"
   ]
  },
  {
   "cell_type": "markdown",
   "metadata": {},
   "source": [
    "### 勾配降下法"
   ]
  },
  {
   "cell_type": "markdown",
   "metadata": {},
   "source": [
    "- 最尤法の大域的最適解をピンポイントで求められない。\n",
    "    - 局所解を求める。\n",
    "- 勾配降下法  \n",
    "    - パラメータを更新するのに全てのデータに対して計算をする必要がある\n",
    "    - データサイズによってはメモリに載り切らない問題が発生する\n",
    "        - ここで確率的勾配降下法を利用する\n",
    "- 確率的勾配降下法(SGD)  \n",
    "    - ランダムにデータ１個を選んで逐次パラメータを更新する  \n"
   ]
  },
  {
   "cell_type": "markdown",
   "metadata": {},
   "source": [
    "### モデル評価"
   ]
  },
  {
   "cell_type": "markdown",
   "metadata": {},
   "source": []
  },
  {
   "cell_type": "markdown",
   "metadata": {},
   "source": []
  },
  {
   "cell_type": "markdown",
   "metadata": {},
   "source": []
  },
  {
   "cell_type": "markdown",
   "metadata": {},
   "source": []
  },
  {
   "cell_type": "markdown",
   "metadata": {},
   "source": []
  },
  {
   "cell_type": "markdown",
   "metadata": {},
   "source": []
  },
  {
   "cell_type": "markdown",
   "metadata": {},
   "source": []
  }
 ],
 "metadata": {
  "kernelspec": {
   "display_name": "Python 3",
   "language": "python",
   "name": "python3"
  },
  "language_info": {
   "codemirror_mode": {
    "name": "ipython",
    "version": 3
   },
   "file_extension": ".py",
   "mimetype": "text/x-python",
   "name": "python",
   "nbconvert_exporter": "python",
   "pygments_lexer": "ipython3",
   "version": "3.7.3"
  },
  "toc": {
   "base_numbering": 1,
   "nav_menu": {},
   "number_sections": true,
   "sideBar": true,
   "skip_h1_title": false,
   "title_cell": "Table of Contents",
   "title_sidebar": "Contents",
   "toc_cell": true,
   "toc_position": {},
   "toc_section_display": true,
   "toc_window_display": false
  }
 },
 "nbformat": 4,
 "nbformat_minor": 2
}
